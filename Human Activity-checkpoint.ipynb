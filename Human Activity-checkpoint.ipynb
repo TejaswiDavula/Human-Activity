{
 "cells": [
  {
   "cell_type": "markdown",
   "id": "65d39d8b",
   "metadata": {},
   "source": [
    "# Machine Learning Adopted Human Activity Classification using Shimmer Wearable Sensors for Health Monitoring"
   ]
  },
  {
   "cell_type": "code",
   "execution_count": 1,
   "id": "34913d68",
   "metadata": {},
   "outputs": [],
   "source": [
    "import numpy as np\n",
    "import pandas as pd\n",
    "import seaborn as sns\n",
    "import matplotlib.pyplot as plt\n",
    "import joblib\n",
    "import os\n",
    "from sklearn.utils import resample\n",
    "from sklearn.model_selection import train_test_split\n",
    "from imblearn.over_sampling import SMOTE\n",
    "from sklearn.ensemble import GradientBoostingClassifier\n",
    "from xgboost import XGBClassifier\n",
    "from sklearn.metrics import accuracy_score,confusion_matrix,classification_report,precision_score,recall_score,f1_score\n",
    "from sklearn.preprocessing import LabelEncoder\n",
    "import warnings\n",
    "warnings.filterwarnings('ignore')"
   ]
  },
  {
   "cell_type": "code",
   "execution_count": 2,
   "id": "8d0c1be8",
   "metadata": {},
   "outputs": [],
   "source": [
    "df = pd.read_csv('dataset.csv')"
   ]
  },
  {
   "cell_type": "code",
   "execution_count": 3,
   "id": "d41a47f5",
   "metadata": {},
   "outputs": [
    {
     "data": {
      "text/html": [
       "<div>\n",
       "<style scoped>\n",
       "    .dataframe tbody tr th:only-of-type {\n",
       "        vertical-align: middle;\n",
       "    }\n",
       "\n",
       "    .dataframe tbody tr th {\n",
       "        vertical-align: top;\n",
       "    }\n",
       "\n",
       "    .dataframe thead th {\n",
       "        text-align: right;\n",
       "    }\n",
       "</style>\n",
       "<table border=\"1\" class=\"dataframe\">\n",
       "  <thead>\n",
       "    <tr style=\"text-align: right;\">\n",
       "      <th></th>\n",
       "      <th>avg_rss12</th>\n",
       "      <th>var_rss12</th>\n",
       "      <th>avg_rss13</th>\n",
       "      <th>var_rss13</th>\n",
       "      <th>avg_rss23</th>\n",
       "      <th>var_rss23</th>\n",
       "      <th>activity</th>\n",
       "    </tr>\n",
       "  </thead>\n",
       "  <tbody>\n",
       "    <tr>\n",
       "      <th>0</th>\n",
       "      <td>39.25</td>\n",
       "      <td>0.43</td>\n",
       "      <td>22.75</td>\n",
       "      <td>0.43</td>\n",
       "      <td>33.75</td>\n",
       "      <td>1.3</td>\n",
       "      <td>bending1</td>\n",
       "    </tr>\n",
       "    <tr>\n",
       "      <th>1</th>\n",
       "      <td>39.25</td>\n",
       "      <td>0.43</td>\n",
       "      <td>23.00</td>\n",
       "      <td>0.00</td>\n",
       "      <td>33.00</td>\n",
       "      <td>0.0</td>\n",
       "      <td>bending1</td>\n",
       "    </tr>\n",
       "    <tr>\n",
       "      <th>2</th>\n",
       "      <td>39.25</td>\n",
       "      <td>0.43</td>\n",
       "      <td>23.25</td>\n",
       "      <td>0.43</td>\n",
       "      <td>33.00</td>\n",
       "      <td>0.0</td>\n",
       "      <td>bending1</td>\n",
       "    </tr>\n",
       "    <tr>\n",
       "      <th>3</th>\n",
       "      <td>39.50</td>\n",
       "      <td>0.50</td>\n",
       "      <td>23.00</td>\n",
       "      <td>0.71</td>\n",
       "      <td>33.00</td>\n",
       "      <td>0.0</td>\n",
       "      <td>bending1</td>\n",
       "    </tr>\n",
       "    <tr>\n",
       "      <th>4</th>\n",
       "      <td>39.50</td>\n",
       "      <td>0.50</td>\n",
       "      <td>24.00</td>\n",
       "      <td>0.00</td>\n",
       "      <td>33.00</td>\n",
       "      <td>0.0</td>\n",
       "      <td>bending1</td>\n",
       "    </tr>\n",
       "  </tbody>\n",
       "</table>\n",
       "</div>"
      ],
      "text/plain": [
       "   avg_rss12  var_rss12  avg_rss13  var_rss13  avg_rss23  var_rss23  activity\n",
       "0      39.25       0.43      22.75       0.43      33.75        1.3  bending1\n",
       "1      39.25       0.43      23.00       0.00      33.00        0.0  bending1\n",
       "2      39.25       0.43      23.25       0.43      33.00        0.0  bending1\n",
       "3      39.50       0.50      23.00       0.71      33.00        0.0  bending1\n",
       "4      39.50       0.50      24.00       0.00      33.00        0.0  bending1"
      ]
     },
     "execution_count": 3,
     "metadata": {},
     "output_type": "execute_result"
    }
   ],
   "source": [
    "df.head()"
   ]
  },
  {
   "cell_type": "code",
   "execution_count": 4,
   "id": "6cfc0e5f",
   "metadata": {},
   "outputs": [
    {
     "data": {
      "text/plain": [
       "(2399, 7)"
      ]
     },
     "execution_count": 4,
     "metadata": {},
     "output_type": "execute_result"
    }
   ],
   "source": [
    "df.shape"
   ]
  },
  {
   "cell_type": "code",
   "execution_count": 5,
   "id": "da4c4419",
   "metadata": {},
   "outputs": [
    {
     "data": {
      "text/plain": [
       "array(['bending1', 'cycling', 'sitting', 'standing', 'walking'],\n",
       "      dtype=object)"
      ]
     },
     "execution_count": 5,
     "metadata": {},
     "output_type": "execute_result"
    }
   ],
   "source": [
    "df['activity'].unique()"
   ]
  },
  {
   "cell_type": "code",
   "execution_count": 6,
   "id": "3d9fb39f",
   "metadata": {},
   "outputs": [
    {
     "data": {
      "text/html": [
       "<div>\n",
       "<style scoped>\n",
       "    .dataframe tbody tr th:only-of-type {\n",
       "        vertical-align: middle;\n",
       "    }\n",
       "\n",
       "    .dataframe tbody tr th {\n",
       "        vertical-align: top;\n",
       "    }\n",
       "\n",
       "    .dataframe thead th {\n",
       "        text-align: right;\n",
       "    }\n",
       "</style>\n",
       "<table border=\"1\" class=\"dataframe\">\n",
       "  <thead>\n",
       "    <tr style=\"text-align: right;\">\n",
       "      <th></th>\n",
       "      <th>avg_rss12</th>\n",
       "      <th>var_rss12</th>\n",
       "      <th>avg_rss13</th>\n",
       "      <th>var_rss13</th>\n",
       "      <th>avg_rss23</th>\n",
       "      <th>var_rss23</th>\n",
       "    </tr>\n",
       "  </thead>\n",
       "  <tbody>\n",
       "    <tr>\n",
       "      <th>count</th>\n",
       "      <td>2399.000000</td>\n",
       "      <td>2399.000000</td>\n",
       "      <td>2399.000000</td>\n",
       "      <td>2399.000000</td>\n",
       "      <td>2399.000000</td>\n",
       "      <td>2399.000000</td>\n",
       "    </tr>\n",
       "    <tr>\n",
       "      <th>mean</th>\n",
       "      <td>39.356603</td>\n",
       "      <td>1.545556</td>\n",
       "      <td>16.639045</td>\n",
       "      <td>1.675340</td>\n",
       "      <td>18.230225</td>\n",
       "      <td>1.809721</td>\n",
       "    </tr>\n",
       "    <tr>\n",
       "      <th>std</th>\n",
       "      <td>4.517858</td>\n",
       "      <td>1.935654</td>\n",
       "      <td>3.587179</td>\n",
       "      <td>1.693525</td>\n",
       "      <td>9.095739</td>\n",
       "      <td>1.673722</td>\n",
       "    </tr>\n",
       "    <tr>\n",
       "      <th>min</th>\n",
       "      <td>19.330000</td>\n",
       "      <td>0.000000</td>\n",
       "      <td>0.000000</td>\n",
       "      <td>0.000000</td>\n",
       "      <td>0.000000</td>\n",
       "      <td>0.000000</td>\n",
       "    </tr>\n",
       "    <tr>\n",
       "      <th>25%</th>\n",
       "      <td>36.750000</td>\n",
       "      <td>0.430000</td>\n",
       "      <td>14.500000</td>\n",
       "      <td>0.430000</td>\n",
       "      <td>12.000000</td>\n",
       "      <td>0.500000</td>\n",
       "    </tr>\n",
       "    <tr>\n",
       "      <th>50%</th>\n",
       "      <td>40.500000</td>\n",
       "      <td>0.640000</td>\n",
       "      <td>16.750000</td>\n",
       "      <td>1.090000</td>\n",
       "      <td>16.330000</td>\n",
       "      <td>1.300000</td>\n",
       "    </tr>\n",
       "    <tr>\n",
       "      <th>75%</th>\n",
       "      <td>42.750000</td>\n",
       "      <td>2.120000</td>\n",
       "      <td>18.750000</td>\n",
       "      <td>2.500000</td>\n",
       "      <td>20.500000</td>\n",
       "      <td>2.600000</td>\n",
       "    </tr>\n",
       "    <tr>\n",
       "      <th>max</th>\n",
       "      <td>48.000000</td>\n",
       "      <td>14.500000</td>\n",
       "      <td>29.500000</td>\n",
       "      <td>9.000000</td>\n",
       "      <td>38.250000</td>\n",
       "      <td>9.740000</td>\n",
       "    </tr>\n",
       "  </tbody>\n",
       "</table>\n",
       "</div>"
      ],
      "text/plain": [
       "         avg_rss12    var_rss12    avg_rss13    var_rss13    avg_rss23  \\\n",
       "count  2399.000000  2399.000000  2399.000000  2399.000000  2399.000000   \n",
       "mean     39.356603     1.545556    16.639045     1.675340    18.230225   \n",
       "std       4.517858     1.935654     3.587179     1.693525     9.095739   \n",
       "min      19.330000     0.000000     0.000000     0.000000     0.000000   \n",
       "25%      36.750000     0.430000    14.500000     0.430000    12.000000   \n",
       "50%      40.500000     0.640000    16.750000     1.090000    16.330000   \n",
       "75%      42.750000     2.120000    18.750000     2.500000    20.500000   \n",
       "max      48.000000    14.500000    29.500000     9.000000    38.250000   \n",
       "\n",
       "         var_rss23  \n",
       "count  2399.000000  \n",
       "mean      1.809721  \n",
       "std       1.673722  \n",
       "min       0.000000  \n",
       "25%       0.500000  \n",
       "50%       1.300000  \n",
       "75%       2.600000  \n",
       "max       9.740000  "
      ]
     },
     "execution_count": 6,
     "metadata": {},
     "output_type": "execute_result"
    }
   ],
   "source": [
    "df.describe()"
   ]
  },
  {
   "cell_type": "code",
   "execution_count": 7,
   "id": "2ef3d57f",
   "metadata": {},
   "outputs": [
    {
     "name": "stdout",
     "output_type": "stream",
     "text": [
      "<class 'pandas.core.frame.DataFrame'>\n",
      "RangeIndex: 2399 entries, 0 to 2398\n",
      "Data columns (total 7 columns):\n",
      " #   Column     Non-Null Count  Dtype  \n",
      "---  ------     --------------  -----  \n",
      " 0   avg_rss12  2399 non-null   float64\n",
      " 1   var_rss12  2399 non-null   float64\n",
      " 2   avg_rss13  2399 non-null   float64\n",
      " 3   var_rss13  2399 non-null   float64\n",
      " 4   avg_rss23  2399 non-null   float64\n",
      " 5   var_rss23  2399 non-null   float64\n",
      " 6   activity   2399 non-null   object \n",
      "dtypes: float64(6), object(1)\n",
      "memory usage: 131.3+ KB\n"
     ]
    }
   ],
   "source": [
    "df.info()"
   ]
  },
  {
   "cell_type": "code",
   "execution_count": 8,
   "id": "ebe4523a",
   "metadata": {},
   "outputs": [
    {
     "data": {
      "text/plain": [
       "avg_rss12    0\n",
       "var_rss12    0\n",
       "avg_rss13    0\n",
       "var_rss13    0\n",
       "avg_rss23    0\n",
       "var_rss23    0\n",
       "activity     0\n",
       "dtype: int64"
      ]
     },
     "execution_count": 8,
     "metadata": {},
     "output_type": "execute_result"
    }
   ],
   "source": [
    "df.isnull().sum()"
   ]
  },
  {
   "cell_type": "code",
   "execution_count": 9,
   "id": "d3f4f9cc",
   "metadata": {},
   "outputs": [
    {
     "data": {
      "image/png": "[encoded data removed]",
      "text/plain": [
       "<Figure size 1000x600 with 1 Axes>"
      ]
     },
     "metadata": {},
     "output_type": "display_data"
    }
   ],
   "source": [
    "# Create the count plot\n",
    "plt.figure(figsize=(10, 6))\n",
    "sns.countplot(data=df, x='activity')\n",
    "plt.title('Count Plot for Activity')\n",
    "plt.xlabel('Activity')\n",
    "plt.ylabel('Count')\n",
    "plt.show()"
   ]
  },
  {
   "cell_type": "code",
   "execution_count": 10,
   "id": "731f4d19",
   "metadata": {},
   "outputs": [],
   "source": [
    "# Resample the DataFrame to have 10,000 samples\n",
    "df_resampled = resample(df, replace=True, n_samples=10000, random_state=42)"
   ]
  },
  {
   "cell_type": "code",
   "execution_count": 11,
   "id": "45431f0a",
   "metadata": {},
   "outputs": [
    {
     "data": {
      "image/png": "[encoded data removed]",
      "text/plain": [
       "<Figure size 1000x600 with 1 Axes>"
      ]
     },
     "metadata": {},
     "output_type": "display_data"
    }
   ],
   "source": [
    "# Create the count plot\n",
    "plt.figure(figsize=(10, 6))\n",
    "sns.countplot(data=df_resampled, x='activity')\n",
    "plt.title('Count Plot for Activity')\n",
    "plt.xlabel('Activity')\n",
    "plt.ylabel('Count')\n",
    "plt.show()"
   ]
  },
  {
   "cell_type": "code",
   "execution_count": 12,
   "id": "2629585f",
   "metadata": {},
   "outputs": [],
   "source": [
    "label_encoder = LabelEncoder()\n",
    "# Fit and transform the activity column\n",
    "df_resampled['activity'] = label_encoder.fit_transform(df_resampled['activity'])"
   ]
  },
  {
   "cell_type": "code",
   "execution_count": 13,
   "id": "e75884ca",
   "metadata": {},
   "outputs": [
    {
     "data": {
      "text/html": [
       "<div>\n",
       "<style scoped>\n",
       "    .dataframe tbody tr th:only-of-type {\n",
       "        vertical-align: middle;\n",
       "    }\n",
       "\n",
       "    .dataframe tbody tr th {\n",
       "        vertical-align: top;\n",
       "    }\n",
       "\n",
       "    .dataframe thead th {\n",
       "        text-align: right;\n",
       "    }\n",
       "</style>\n",
       "<table border=\"1\" class=\"dataframe\">\n",
       "  <thead>\n",
       "    <tr style=\"text-align: right;\">\n",
       "      <th></th>\n",
       "      <th>avg_rss12</th>\n",
       "      <th>var_rss12</th>\n",
       "      <th>avg_rss13</th>\n",
       "      <th>var_rss13</th>\n",
       "      <th>avg_rss23</th>\n",
       "      <th>var_rss23</th>\n",
       "      <th>activity</th>\n",
       "    </tr>\n",
       "  </thead>\n",
       "  <tbody>\n",
       "    <tr>\n",
       "      <th>860</th>\n",
       "      <td>33.00</td>\n",
       "      <td>0.00</td>\n",
       "      <td>18.0</td>\n",
       "      <td>0.82</td>\n",
       "      <td>17.50</td>\n",
       "      <td>2.50</td>\n",
       "      <td>1</td>\n",
       "    </tr>\n",
       "    <tr>\n",
       "      <th>1294</th>\n",
       "      <td>43.25</td>\n",
       "      <td>0.83</td>\n",
       "      <td>17.0</td>\n",
       "      <td>0.71</td>\n",
       "      <td>17.75</td>\n",
       "      <td>0.43</td>\n",
       "      <td>2</td>\n",
       "    </tr>\n",
       "    <tr>\n",
       "      <th>1130</th>\n",
       "      <td>43.50</td>\n",
       "      <td>0.50</td>\n",
       "      <td>20.0</td>\n",
       "      <td>0.00</td>\n",
       "      <td>11.67</td>\n",
       "      <td>0.47</td>\n",
       "      <td>2</td>\n",
       "    </tr>\n",
       "    <tr>\n",
       "      <th>1095</th>\n",
       "      <td>43.75</td>\n",
       "      <td>0.43</td>\n",
       "      <td>18.0</td>\n",
       "      <td>0.00</td>\n",
       "      <td>11.00</td>\n",
       "      <td>0.82</td>\n",
       "      <td>2</td>\n",
       "    </tr>\n",
       "    <tr>\n",
       "      <th>1638</th>\n",
       "      <td>44.75</td>\n",
       "      <td>0.43</td>\n",
       "      <td>15.0</td>\n",
       "      <td>0.00</td>\n",
       "      <td>7.33</td>\n",
       "      <td>1.70</td>\n",
       "      <td>3</td>\n",
       "    </tr>\n",
       "  </tbody>\n",
       "</table>\n",
       "</div>"
      ],
      "text/plain": [
       "      avg_rss12  var_rss12  avg_rss13  var_rss13  avg_rss23  var_rss23  \\\n",
       "860       33.00       0.00       18.0       0.82      17.50       2.50   \n",
       "1294      43.25       0.83       17.0       0.71      17.75       0.43   \n",
       "1130      43.50       0.50       20.0       0.00      11.67       0.47   \n",
       "1095      43.75       0.43       18.0       0.00      11.00       0.82   \n",
       "1638      44.75       0.43       15.0       0.00       7.33       1.70   \n",
       "\n",
       "      activity  \n",
       "860          1  \n",
       "1294         2  \n",
       "1130         2  \n",
       "1095         2  \n",
       "1638         3  "
      ]
     },
     "execution_count": 13,
     "metadata": {},
     "output_type": "execute_result"
    }
   ],
   "source": [
    "df_resampled.head()"
   ]
  },
  {
   "cell_type": "code",
   "execution_count": 14,
   "id": "665dbc71",
   "metadata": {},
   "outputs": [
    {
     "data": {
      "text/plain": [
       "(10000, 7)"
      ]
     },
     "execution_count": 14,
     "metadata": {},
     "output_type": "execute_result"
    }
   ],
   "source": [
    "df_resampled.shape"
   ]
  },
  {
   "cell_type": "code",
   "execution_count": 15,
   "id": "55cbbbf3",
   "metadata": {},
   "outputs": [
    {
     "data": {
      "text/plain": [
       "array([1, 2, 3, 4, 0])"
      ]
     },
     "execution_count": 15,
     "metadata": {},
     "output_type": "execute_result"
    }
   ],
   "source": [
    "df_resampled['activity'].unique()"
   ]
  },
  {
   "cell_type": "code",
   "execution_count": 16,
   "id": "3dbd9654",
   "metadata": {},
   "outputs": [],
   "source": [
    "# Specifying dependent and independent variables"
   ]
  },
  {
   "cell_type": "code",
   "execution_count": 17,
   "id": "dac70c8b",
   "metadata": {},
   "outputs": [],
   "source": [
    "# Separate features and target\n",
    "X = df_resampled.drop('activity', axis=1)\n",
    "y = df_resampled['activity']"
   ]
  },
  {
   "cell_type": "code",
   "execution_count": 18,
   "id": "4bd58cc4",
   "metadata": {},
   "outputs": [
    {
     "name": "stdout",
     "output_type": "stream",
     "text": [
      "Length of X: 10000\n",
      "Length of y: 10000\n"
     ]
    }
   ],
   "source": [
    "print(\"Length of X:\", len(X))\n",
    "print(\"Length of y:\", len(y))"
   ]
  },
  {
   "cell_type": "code",
   "execution_count": 19,
   "id": "1c5b6f86",
   "metadata": {},
   "outputs": [
    {
     "data": {
      "text/html": [
       "<div>\n",
       "<style scoped>\n",
       "    .dataframe tbody tr th:only-of-type {\n",
       "        vertical-align: middle;\n",
       "    }\n",
       "\n",
       "    .dataframe tbody tr th {\n",
       "        vertical-align: top;\n",
       "    }\n",
       "\n",
       "    .dataframe thead th {\n",
       "        text-align: right;\n",
       "    }\n",
       "</style>\n",
       "<table border=\"1\" class=\"dataframe\">\n",
       "  <thead>\n",
       "    <tr style=\"text-align: right;\">\n",
       "      <th></th>\n",
       "      <th>avg_rss12</th>\n",
       "      <th>var_rss12</th>\n",
       "      <th>avg_rss13</th>\n",
       "      <th>var_rss13</th>\n",
       "      <th>avg_rss23</th>\n",
       "      <th>var_rss23</th>\n",
       "    </tr>\n",
       "  </thead>\n",
       "  <tbody>\n",
       "    <tr>\n",
       "      <th>860</th>\n",
       "      <td>33.00</td>\n",
       "      <td>0.00</td>\n",
       "      <td>18.00</td>\n",
       "      <td>0.82</td>\n",
       "      <td>17.50</td>\n",
       "      <td>2.50</td>\n",
       "    </tr>\n",
       "    <tr>\n",
       "      <th>1294</th>\n",
       "      <td>43.25</td>\n",
       "      <td>0.83</td>\n",
       "      <td>17.00</td>\n",
       "      <td>0.71</td>\n",
       "      <td>17.75</td>\n",
       "      <td>0.43</td>\n",
       "    </tr>\n",
       "    <tr>\n",
       "      <th>1130</th>\n",
       "      <td>43.50</td>\n",
       "      <td>0.50</td>\n",
       "      <td>20.00</td>\n",
       "      <td>0.00</td>\n",
       "      <td>11.67</td>\n",
       "      <td>0.47</td>\n",
       "    </tr>\n",
       "    <tr>\n",
       "      <th>1095</th>\n",
       "      <td>43.75</td>\n",
       "      <td>0.43</td>\n",
       "      <td>18.00</td>\n",
       "      <td>0.00</td>\n",
       "      <td>11.00</td>\n",
       "      <td>0.82</td>\n",
       "    </tr>\n",
       "    <tr>\n",
       "      <th>1638</th>\n",
       "      <td>44.75</td>\n",
       "      <td>0.43</td>\n",
       "      <td>15.00</td>\n",
       "      <td>0.00</td>\n",
       "      <td>7.33</td>\n",
       "      <td>1.70</td>\n",
       "    </tr>\n",
       "    <tr>\n",
       "      <th>...</th>\n",
       "      <td>...</td>\n",
       "      <td>...</td>\n",
       "      <td>...</td>\n",
       "      <td>...</td>\n",
       "      <td>...</td>\n",
       "      <td>...</td>\n",
       "    </tr>\n",
       "    <tr>\n",
       "      <th>2028</th>\n",
       "      <td>29.50</td>\n",
       "      <td>7.79</td>\n",
       "      <td>16.75</td>\n",
       "      <td>1.48</td>\n",
       "      <td>8.75</td>\n",
       "      <td>4.26</td>\n",
       "    </tr>\n",
       "    <tr>\n",
       "      <th>362</th>\n",
       "      <td>39.00</td>\n",
       "      <td>0.00</td>\n",
       "      <td>20.75</td>\n",
       "      <td>0.43</td>\n",
       "      <td>36.25</td>\n",
       "      <td>0.43</td>\n",
       "    </tr>\n",
       "    <tr>\n",
       "      <th>2318</th>\n",
       "      <td>35.00</td>\n",
       "      <td>7.65</td>\n",
       "      <td>14.00</td>\n",
       "      <td>0.82</td>\n",
       "      <td>16.00</td>\n",
       "      <td>4.42</td>\n",
       "    </tr>\n",
       "    <tr>\n",
       "      <th>2345</th>\n",
       "      <td>37.25</td>\n",
       "      <td>2.86</td>\n",
       "      <td>20.50</td>\n",
       "      <td>1.50</td>\n",
       "      <td>17.00</td>\n",
       "      <td>3.67</td>\n",
       "    </tr>\n",
       "    <tr>\n",
       "      <th>233</th>\n",
       "      <td>40.00</td>\n",
       "      <td>1.00</td>\n",
       "      <td>12.00</td>\n",
       "      <td>0.00</td>\n",
       "      <td>33.75</td>\n",
       "      <td>1.30</td>\n",
       "    </tr>\n",
       "  </tbody>\n",
       "</table>\n",
       "<p>10000 rows × 6 columns</p>\n",
       "</div>"
      ],
      "text/plain": [
       "      avg_rss12  var_rss12  avg_rss13  var_rss13  avg_rss23  var_rss23\n",
       "860       33.00       0.00      18.00       0.82      17.50       2.50\n",
       "1294      43.25       0.83      17.00       0.71      17.75       0.43\n",
       "1130      43.50       0.50      20.00       0.00      11.67       0.47\n",
       "1095      43.75       0.43      18.00       0.00      11.00       0.82\n",
       "1638      44.75       0.43      15.00       0.00       7.33       1.70\n",
       "...         ...        ...        ...        ...        ...        ...\n",
       "2028      29.50       7.79      16.75       1.48       8.75       4.26\n",
       "362       39.00       0.00      20.75       0.43      36.25       0.43\n",
       "2318      35.00       7.65      14.00       0.82      16.00       4.42\n",
       "2345      37.25       2.86      20.50       1.50      17.00       3.67\n",
       "233       40.00       1.00      12.00       0.00      33.75       1.30\n",
       "\n",
       "[10000 rows x 6 columns]"
      ]
     },
     "execution_count": 19,
     "metadata": {},
     "output_type": "execute_result"
    }
   ],
   "source": [
    "X"
   ]
  },
  {
   "cell_type": "code",
   "execution_count": 20,
   "id": "6a9ff2ac",
   "metadata": {},
   "outputs": [
    {
     "data": {
      "text/plain": [
       "860     1\n",
       "1294    2\n",
       "1130    2\n",
       "1095    2\n",
       "1638    3\n",
       "       ..\n",
       "2028    4\n",
       "362     0\n",
       "2318    4\n",
       "2345    4\n",
       "233     0\n",
       "Name: activity, Length: 10000, dtype: int32"
      ]
     },
     "execution_count": 20,
     "metadata": {},
     "output_type": "execute_result"
    }
   ],
   "source": [
    "y"
   ]
  },
  {
   "cell_type": "code",
   "execution_count": 21,
   "id": "c97366d3",
   "metadata": {},
   "outputs": [],
   "source": [
    "# Data Splitting"
   ]
  },
  {
   "cell_type": "code",
   "execution_count": 22,
   "id": "ed469d59",
   "metadata": {},
   "outputs": [],
   "source": [
    "X_train,X_test,y_train,y_test= train_test_split(X,y,test_size=0.2,random_state=77 )"
   ]
  },
  {
   "cell_type": "code",
   "execution_count": 23,
   "id": "4a3053e1",
   "metadata": {},
   "outputs": [],
   "source": [
    "smote = SMOTE(sampling_strategy='auto', random_state=42)"
   ]
  },
  {
   "cell_type": "code",
   "execution_count": 24,
   "id": "50f5c86a",
   "metadata": {},
   "outputs": [],
   "source": [
    "X_train ,y_train = smote.fit_resample(X_train,y_train) "
   ]
  },
  {
   "cell_type": "code",
   "execution_count": 25,
   "id": "6dea520d",
   "metadata": {},
   "outputs": [
    {
     "data": {
      "text/plain": [
       "(8220, 6)"
      ]
     },
     "execution_count": 25,
     "metadata": {},
     "output_type": "execute_result"
    }
   ],
   "source": [
    "X_train.shape"
   ]
  },
  {
   "cell_type": "code",
   "execution_count": 26,
   "id": "175f2258",
   "metadata": {},
   "outputs": [
    {
     "data": {
      "text/plain": [
       "(8220,)"
      ]
     },
     "execution_count": 26,
     "metadata": {},
     "output_type": "execute_result"
    }
   ],
   "source": [
    "y_train.shape"
   ]
  },
  {
   "cell_type": "code",
   "execution_count": 27,
   "id": "4e1cfb43",
   "metadata": {},
   "outputs": [],
   "source": [
    "labels = ['bending', 'cycling', 'sitting', 'standing', 'walking']  # The corresponding names for the labels"
   ]
  },
  {
   "cell_type": "code",
   "execution_count": 28,
   "id": "91f5b7a7",
   "metadata": {},
   "outputs": [],
   "source": [
    "#defining global variables to store accuracy and other metrics\n",
    "precision = []\n",
    "recall = []\n",
    "fscore = []\n",
    "accuracy = []"
   ]
  },
  {
   "cell_type": "code",
   "execution_count": 29,
   "id": "1c8abc0e",
   "metadata": {},
   "outputs": [],
   "source": [
    "#function to calculate various metrics such as accuracy, precision etc\n",
    "def calculateMetrics(algorithm, testY,predict):\n",
    "    testY = testY.astype('int')\n",
    "    predict = predict.astype('int')\n",
    "    p = precision_score(testY, predict,average='macro') * 100\n",
    "    r = recall_score(testY, predict,average='macro') * 100\n",
    "    f = f1_score(testY, predict,average='macro') * 100\n",
    "    a = accuracy_score(testY,predict)*100 \n",
    "\n",
    "    accuracy.append(a)\n",
    "    precision.append(p)\n",
    "    recall.append(r)\n",
    "    fscore.append(f)\n",
    "    print(algorithm+' Accuracy    : '+str(a))\n",
    "    print(algorithm+' Precision   : '+str(p))\n",
    "    print(algorithm+' Recall      : '+str(r))\n",
    "    print(algorithm+' FSCORE      : '+str(f))\n",
    "    report=classification_report(predict, testY,target_names=labels)\n",
    "    print('\\n',algorithm+\" classification report\\n\",report)\n",
    "    conf_matrix = confusion_matrix(testY, predict) \n",
    "    plt.figure(figsize =(5, 5)) \n",
    "    ax = sns.heatmap(conf_matrix, xticklabels = labels, yticklabels = labels, annot = True, cmap=\"Blues\" ,fmt =\"g\");\n",
    "    ax.set_ylim([0,len(labels)])\n",
    "    plt.title(algorithm+\" Confusion matrix\") \n",
    "    plt.ylabel('True class') \n",
    "    plt.xlabel('Predicted class') \n",
    "    plt.show()"
   ]
  },
  {
   "cell_type": "markdown",
   "id": "84a1c902",
   "metadata": {},
   "source": [
    "# GradientBoostingClassifier"
   ]
  },
  {
   "cell_type": "code",
   "execution_count": 30,
   "id": "658887eb",
   "metadata": {
    "scrolled": true
   },
   "outputs": [
    {
     "name": "stdout",
     "output_type": "stream",
     "text": [
      "Model loaded successfully.\n",
      "GradientBoostingClassifier Accuracy    : 91.95\n",
      "GradientBoostingClassifier Precision   : 91.84500808984485\n",
      "GradientBoostingClassifier Recall      : 91.84898109049904\n",
      "GradientBoostingClassifier FSCORE      : 91.84599463508206\n",
      "\n",
      " GradientBoostingClassifier classification report\n",
      "               precision    recall  f1-score   support\n",
      "\n",
      "     bending       1.00      1.00      1.00       422\n",
      "     cycling       0.86      0.86      0.86       395\n",
      "     sitting       0.92      0.92      0.92       392\n",
      "    standing       0.92      0.92      0.92       392\n",
      "     walking       0.88      0.89      0.89       399\n",
      "\n",
      "    accuracy                           0.92      2000\n",
      "   macro avg       0.92      0.92      0.92      2000\n",
      "weighted avg       0.92      0.92      0.92      2000\n",
      "\n"
     ]
    },
    {
     "data": {
      "image/png": "[encoded data removed]",
      "text/plain": [
       "<Figure size 500x500 with 2 Axes>"
      ]
     },
     "metadata": {},
     "output_type": "display_data"
    }
   ],
   "source": [
    "if os.path.exists('model/GradientBoostingClassifier.pkl'):\n",
    "    # Load the trained model from the file\n",
    "    gbb = joblib.load('model/GradientBoostingClassifier.pkl')\n",
    "    print(\"Model loaded successfully.\")\n",
    "    predict = gbb.predict(X_test)\n",
    "    calculateMetrics(\"GradientBoostingClassifier\", predict, y_test)\n",
    "else:\n",
    "    # Train the model (assuming X_train and y_train are defined)\n",
    "    gbb = GradientBoostingClassifier()\n",
    "    gbb.fit(X_train, y_train)\n",
    "    # Save the trained model to a file\n",
    "    joblib.dump(gbb, 'model/GradientBoostingClassifier.pkl')\n",
    "    print(\"Model saved successfully.\")\n",
    "    predict = gbb.predict(X_test)\n",
    "    calculateMetrics(\"GradientBoostingClassifier\", predict, y_test)"
   ]
  },
  {
   "cell_type": "markdown",
   "id": "54ce5792",
   "metadata": {},
   "source": [
    "# XGBClassifier"
   ]
  },
  {
   "cell_type": "code",
   "execution_count": 31,
   "id": "ce28ddcd",
   "metadata": {},
   "outputs": [
    {
     "name": "stdout",
     "output_type": "stream",
     "text": [
      "Model loaded successfully.\n",
      "XGBClassifier Accuracy    : 99.55000000000001\n",
      "XGBClassifier Precision   : 99.54209891818152\n",
      "XGBClassifier Recall      : 99.54222674893546\n",
      "XGBClassifier FSCORE      : 99.54209833713549\n",
      "\n",
      " XGBClassifier classification report\n",
      "               precision    recall  f1-score   support\n",
      "\n",
      "     bending       1.00      1.00      1.00       422\n",
      "     cycling       1.00      1.00      1.00       395\n",
      "     sitting       0.99      0.99      0.99       392\n",
      "    standing       0.99      0.99      0.99       392\n",
      "     walking       1.00      1.00      1.00       399\n",
      "\n",
      "    accuracy                           1.00      2000\n",
      "   macro avg       1.00      1.00      1.00      2000\n",
      "weighted avg       1.00      1.00      1.00      2000\n",
      "\n"
     ]
    },
    {
     "data": {
      "image/png": "[encoded data removed]",
      "text/plain": [
       "<Figure size 500x500 with 2 Axes>"
      ]
     },
     "metadata": {},
     "output_type": "display_data"
    }
   ],
   "source": [
    "if os.path.exists('model/XGBClassifier.pkl'):\n",
    "    # Load the trained model from the file\n",
    "    xgbc = joblib.load('model/XGBClassifier.pkl')\n",
    "    print(\"Model loaded successfully.\")\n",
    "    predict = xgbc.predict(X_test)\n",
    "    calculateMetrics(\"XGBClassifier\", predict, y_test)\n",
    "else:\n",
    "    # Train the model (assuming X_train and y_train are defined)\n",
    "    xgbc = XGBClassifier()\n",
    "    xgbc.fit(X_train, y_train)\n",
    "    # Save the trained model to a file\n",
    "    joblib.dump(xgbc, 'model/XGBClassifier.pkl')\n",
    "    print(\"Model saved successfully.\")\n",
    "    predict = xgbc.predict(X_test)"
   ]
  },
  {
   "cell_type": "code",
   "execution_count": 32,
   "id": "8b80299c",
   "metadata": {},
   "outputs": [],
   "source": [
    "test = pd.read_csv('test.csv')"
   ]
  },
  {
   "cell_type": "code",
   "execution_count": 33,
   "id": "c8965b5a",
   "metadata": {},
   "outputs": [
    {
     "name": "stdout",
     "output_type": "stream",
     "text": [
      "Transformed Dataset:\n",
      "    avg_rss12  var_rss12  avg_rss13  var_rss13  avg_rss23  var_rss23\n",
      "0       43.00       0.71      20.33       0.47       8.50       1.50\n",
      "1       43.25       0.83      26.00       0.71      30.00       0.00\n",
      "2       40.25       1.30      16.50       0.87       6.75       2.28\n",
      "3       25.25       2.28      18.00       2.94      18.67       3.30\n",
      "4       38.00       2.45      11.25       4.38      15.00       0.00\n",
      "..        ...        ...        ...        ...        ...        ...\n",
      "95      38.00       1.00      12.25       1.09      36.00       0.00\n",
      "96      41.50       0.50      17.50       0.50      15.00       0.00\n",
      "97      39.00       0.00      14.50       0.87       9.00       0.00\n",
      "98      45.00       0.00      16.50       1.12       8.50       0.87\n",
      "99      42.75       0.83      21.00       0.00      14.25       0.83\n",
      "\n",
      "[100 rows x 6 columns]\n"
     ]
    }
   ],
   "source": [
    "#dataset = dataset.fillna(0)\n",
    "object_cols1 = test.select_dtypes(include=['object']).columns\n",
    "test[object_cols1] = test[object_cols1].fillna('Unknown')\n",
    "\n",
    "# Apply Label Encoding to each object column\n",
    "label_encoders = {}\n",
    "for col in object_cols1:\n",
    "    # Fill null values with a placeholder, e.g., 'Unknown'\n",
    "#    dataset[col] = dataset[col].fillna('Unknown')\n",
    "    test = test.fillna(0)\n",
    "    # Initialize and fit the LabelEncoder\n",
    "    le = LabelEncoder()\n",
    "    test[col] = le.fit_transform(test[col])\n",
    "    \n",
    "    # Store the label encoder for future use\n",
    "    label_encoders[col] = le\n",
    "\n",
    "# Display the transformed dataset\n",
    "print(\"Transformed Dataset:\")\n",
    "print(test)"
   ]
  },
  {
   "cell_type": "code",
   "execution_count": 34,
   "id": "753832c1",
   "metadata": {
    "scrolled": true
   },
   "outputs": [
    {
     "name": "stdout",
     "output_type": "stream",
     "text": [
      "Row 0: avg_rss12    43.00\n",
      "var_rss12     0.71\n",
      "avg_rss13    20.33\n",
      "var_rss13     0.47\n",
      "avg_rss23     8.50\n",
      "var_rss23     1.50\n",
      "Name: 0, dtype: float64\n",
      "Row 0: ************************************** Prediction: sitting\n",
      "Row 1: avg_rss12    43.25\n",
      "var_rss12     0.83\n",
      "avg_rss13    26.00\n",
      "var_rss13     0.71\n",
      "avg_rss23    30.00\n",
      "var_rss23     0.00\n",
      "Name: 1, dtype: float64\n",
      "Row 1: ************************************** Prediction: bending\n",
      "Row 2: avg_rss12    40.25\n",
      "var_rss12     1.30\n",
      "avg_rss13    16.50\n",
      "var_rss13     0.87\n",
      "avg_rss23     6.75\n",
      "var_rss23     2.28\n",
      "Name: 2, dtype: float64\n",
      "Row 2: ************************************** Prediction: standing\n",
      "Row 3: avg_rss12    25.25\n",
      "var_rss12     2.28\n",
      "avg_rss13    18.00\n",
      "var_rss13     2.94\n",
      "avg_rss23    18.67\n",
      "var_rss23     3.30\n",
      "Name: 3, dtype: float64\n",
      "Row 3: ************************************** Prediction: walking\n",
      "Row 4: avg_rss12    38.00\n",
      "var_rss12     2.45\n",
      "avg_rss13    11.25\n",
      "var_rss13     4.38\n",
      "avg_rss23    15.00\n",
      "var_rss23     0.00\n",
      "Name: 4, dtype: float64\n",
      "Row 4: ************************************** Prediction: cycling\n",
      "Row 5: avg_rss12    38.25\n",
      "var_rss12     1.30\n",
      "avg_rss13    11.50\n",
      "var_rss13     1.50\n",
      "avg_rss23    21.00\n",
      "var_rss23     1.58\n",
      "Name: 5, dtype: float64\n",
      "Row 5: ************************************** Prediction: cycling\n",
      "Row 6: avg_rss12    38.50\n",
      "var_rss12     0.50\n",
      "avg_rss13    21.25\n",
      "var_rss13     0.43\n",
      "avg_rss23    33.00\n",
      "var_rss23     0.00\n",
      "Name: 6, dtype: float64\n",
      "Row 6: ************************************** Prediction: bending\n",
      "Row 7: avg_rss12    35.25\n",
      "var_rss12     1.30\n",
      "avg_rss13    17.00\n",
      "var_rss13     5.10\n",
      "avg_rss23    15.33\n",
      "var_rss23     3.40\n",
      "Name: 7, dtype: float64\n",
      "Row 7: ************************************** Prediction: walking\n",
      "Row 8: avg_rss12    36.75\n",
      "var_rss12     3.96\n",
      "avg_rss13    17.33\n",
      "var_rss13     3.86\n",
      "avg_rss23    20.67\n",
      "var_rss23     2.36\n",
      "Name: 8, dtype: float64\n",
      "Row 8: ************************************** Prediction: cycling\n",
      "Row 9: avg_rss12    45.00\n",
      "var_rss12     0.00\n",
      "avg_rss13    19.50\n",
      "var_rss13     0.50\n",
      "avg_rss23    15.75\n",
      "var_rss23     0.83\n",
      "Name: 9, dtype: float64\n",
      "Row 9: ************************************** Prediction: standing\n"
     ]
    }
   ],
   "source": [
    "# Define your labels\n",
    "labels = ['bending', 'cycling', 'sitting', 'standing', 'walking']\n",
    "\n",
    "# Make predictions\n",
    "predict = xgbc.predict(test)\n",
    "\n",
    "# Loop through each prediction and print the corresponding row for the first 10 rows\n",
    "for i, p in enumerate(predict[:10]):  # Slice to limit to first 10 rows\n",
    "    label = labels[p]  # Map the prediction to the label\n",
    "    print(f\"Row {i}: {test.iloc[i]}\")  # Print the row content\n",
    "    print(f\"Row {i}: ************************************** Prediction: {label}\")\n"
   ]
  },
  {
   "cell_type": "code",
   "execution_count": 35,
   "id": "19fb4e8c",
   "metadata": {},
   "outputs": [
    {
     "data": {
      "text/html": [
       "<div>\n",
       "<style scoped>\n",
       "    .dataframe tbody tr th:only-of-type {\n",
       "        vertical-align: middle;\n",
       "    }\n",
       "\n",
       "    .dataframe tbody tr th {\n",
       "        vertical-align: top;\n",
       "    }\n",
       "\n",
       "    .dataframe thead th {\n",
       "        text-align: right;\n",
       "    }\n",
       "</style>\n",
       "<table border=\"1\" class=\"dataframe\">\n",
       "  <thead>\n",
       "    <tr style=\"text-align: right;\">\n",
       "      <th></th>\n",
       "      <th>avg_rss12</th>\n",
       "      <th>var_rss12</th>\n",
       "      <th>avg_rss13</th>\n",
       "      <th>var_rss13</th>\n",
       "      <th>avg_rss23</th>\n",
       "      <th>var_rss23</th>\n",
       "      <th>predict</th>\n",
       "    </tr>\n",
       "  </thead>\n",
       "  <tbody>\n",
       "    <tr>\n",
       "      <th>0</th>\n",
       "      <td>43.00</td>\n",
       "      <td>0.71</td>\n",
       "      <td>20.33</td>\n",
       "      <td>0.47</td>\n",
       "      <td>8.50</td>\n",
       "      <td>1.50</td>\n",
       "      <td>2</td>\n",
       "    </tr>\n",
       "    <tr>\n",
       "      <th>1</th>\n",
       "      <td>43.25</td>\n",
       "      <td>0.83</td>\n",
       "      <td>26.00</td>\n",
       "      <td>0.71</td>\n",
       "      <td>30.00</td>\n",
       "      <td>0.00</td>\n",
       "      <td>0</td>\n",
       "    </tr>\n",
       "    <tr>\n",
       "      <th>2</th>\n",
       "      <td>40.25</td>\n",
       "      <td>1.30</td>\n",
       "      <td>16.50</td>\n",
       "      <td>0.87</td>\n",
       "      <td>6.75</td>\n",
       "      <td>2.28</td>\n",
       "      <td>3</td>\n",
       "    </tr>\n",
       "    <tr>\n",
       "      <th>3</th>\n",
       "      <td>25.25</td>\n",
       "      <td>2.28</td>\n",
       "      <td>18.00</td>\n",
       "      <td>2.94</td>\n",
       "      <td>18.67</td>\n",
       "      <td>3.30</td>\n",
       "      <td>4</td>\n",
       "    </tr>\n",
       "    <tr>\n",
       "      <th>4</th>\n",
       "      <td>38.00</td>\n",
       "      <td>2.45</td>\n",
       "      <td>11.25</td>\n",
       "      <td>4.38</td>\n",
       "      <td>15.00</td>\n",
       "      <td>0.00</td>\n",
       "      <td>1</td>\n",
       "    </tr>\n",
       "    <tr>\n",
       "      <th>...</th>\n",
       "      <td>...</td>\n",
       "      <td>...</td>\n",
       "      <td>...</td>\n",
       "      <td>...</td>\n",
       "      <td>...</td>\n",
       "      <td>...</td>\n",
       "      <td>...</td>\n",
       "    </tr>\n",
       "    <tr>\n",
       "      <th>95</th>\n",
       "      <td>38.00</td>\n",
       "      <td>1.00</td>\n",
       "      <td>12.25</td>\n",
       "      <td>1.09</td>\n",
       "      <td>36.00</td>\n",
       "      <td>0.00</td>\n",
       "      <td>0</td>\n",
       "    </tr>\n",
       "    <tr>\n",
       "      <th>96</th>\n",
       "      <td>41.50</td>\n",
       "      <td>0.50</td>\n",
       "      <td>17.50</td>\n",
       "      <td>0.50</td>\n",
       "      <td>15.00</td>\n",
       "      <td>0.00</td>\n",
       "      <td>2</td>\n",
       "    </tr>\n",
       "    <tr>\n",
       "      <th>97</th>\n",
       "      <td>39.00</td>\n",
       "      <td>0.00</td>\n",
       "      <td>14.50</td>\n",
       "      <td>0.87</td>\n",
       "      <td>9.00</td>\n",
       "      <td>0.00</td>\n",
       "      <td>3</td>\n",
       "    </tr>\n",
       "    <tr>\n",
       "      <th>98</th>\n",
       "      <td>45.00</td>\n",
       "      <td>0.00</td>\n",
       "      <td>16.50</td>\n",
       "      <td>1.12</td>\n",
       "      <td>8.50</td>\n",
       "      <td>0.87</td>\n",
       "      <td>3</td>\n",
       "    </tr>\n",
       "    <tr>\n",
       "      <th>99</th>\n",
       "      <td>42.75</td>\n",
       "      <td>0.83</td>\n",
       "      <td>21.00</td>\n",
       "      <td>0.00</td>\n",
       "      <td>14.25</td>\n",
       "      <td>0.83</td>\n",
       "      <td>2</td>\n",
       "    </tr>\n",
       "  </tbody>\n",
       "</table>\n",
       "<p>100 rows × 7 columns</p>\n",
       "</div>"
      ],
      "text/plain": [
       "    avg_rss12  var_rss12  avg_rss13  var_rss13  avg_rss23  var_rss23  predict\n",
       "0       43.00       0.71      20.33       0.47       8.50       1.50        2\n",
       "1       43.25       0.83      26.00       0.71      30.00       0.00        0\n",
       "2       40.25       1.30      16.50       0.87       6.75       2.28        3\n",
       "3       25.25       2.28      18.00       2.94      18.67       3.30        4\n",
       "4       38.00       2.45      11.25       4.38      15.00       0.00        1\n",
       "..        ...        ...        ...        ...        ...        ...      ...\n",
       "95      38.00       1.00      12.25       1.09      36.00       0.00        0\n",
       "96      41.50       0.50      17.50       0.50      15.00       0.00        2\n",
       "97      39.00       0.00      14.50       0.87       9.00       0.00        3\n",
       "98      45.00       0.00      16.50       1.12       8.50       0.87        3\n",
       "99      42.75       0.83      21.00       0.00      14.25       0.83        2\n",
       "\n",
       "[100 rows x 7 columns]"
      ]
     },
     "execution_count": 35,
     "metadata": {},
     "output_type": "execute_result"
    }
   ],
   "source": [
    "test['predict']=predict\n",
    "test"
   ]
  },
  {
   "cell_type": "code",
   "execution_count": null,
   "id": "7d61a380",
   "metadata": {},
   "outputs": [],
   "source": []
  }
 ],
 "metadata": {
  "kernelspec": {
   "display_name": "Python 3 (ipykernel)",
   "language": "python",
   "name": "python3"
  },
  "language_info": {
   "codemirror_mode": {
    "name": "ipython",
    "version": 3
   },
   "file_extension": ".py",
   "mimetype": "text/x-python",
   "name": "python",
   "nbconvert_exporter": "python",
   "pygments_lexer": "ipython3",
   "version": "3.7.6"
  }
 },
 "nbformat": 4,
 "nbformat_minor": 5
}
